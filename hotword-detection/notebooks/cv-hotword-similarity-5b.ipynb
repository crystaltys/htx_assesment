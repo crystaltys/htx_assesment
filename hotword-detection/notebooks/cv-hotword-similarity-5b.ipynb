{
 "cells": [
  {
   "cell_type": "code",
   "execution_count": 3,
   "metadata": {},
   "outputs": [
    {
     "name": "stderr",
     "output_type": "stream",
     "text": [
      "/Users/crys/miniconda3/envs/htx_app/lib/python3.9/site-packages/InstructorEmbedding/instructor.py:7: TqdmWarning: IProgress not found. Please update jupyter and ipywidgets. See https://ipywidgets.readthedocs.io/en/stable/user_install.html\n",
      "  from tqdm.autonotebook import trange\n"
     ]
    }
   ],
   "source": [
    "import pandas as pd\n",
    "from sklearn.metrics.pairwise import cosine_similarity\n",
    "from InstructorEmbedding import INSTRUCTOR"
   ]
  },
  {
   "cell_type": "code",
   "execution_count": 4,
   "metadata": {},
   "outputs": [
    {
     "name": "stdout",
     "output_type": "stream",
     "text": [
      "load INSTRUCTOR_Transformer\n",
      "max_seq_length  512\n"
     ]
    },
    {
     "name": "stderr",
     "output_type": "stream",
     "text": [
      "/Users/crys/miniconda3/envs/htx_app/lib/python3.9/site-packages/sentence_transformers/models/Dense.py:63: FutureWarning: You are using `torch.load` with `weights_only=False` (the current default value), which uses the default pickle module implicitly. It is possible to construct malicious pickle data which will execute arbitrary code during unpickling (See https://github.com/pytorch/pytorch/blob/main/SECURITY.md#untrusted-models for more details). In a future release, the default value for `weights_only` will be flipped to `True`. This limits the functions that could be executed during unpickling. Arbitrary objects will no longer be allowed to be loaded via this mode unless they are explicitly allowlisted by the user via `torch.serialization.add_safe_globals`. We recommend you start setting `weights_only=True` for any use case where you don't have full control of the loaded file. Please open an issue on GitHub for any issues related to this experimental feature.\n",
      "  model.load_state_dict(torch.load(os.path.join(input_path, 'pytorch_model.bin'), map_location=torch.device('cpu')))\n"
     ]
    }
   ],
   "source": [
    "model = INSTRUCTOR('hkunlp/instructor-large')"
   ]
  },
  {
   "cell_type": "code",
   "execution_count": 5,
   "metadata": {},
   "outputs": [],
   "source": [
    "cv_valid_fpath = \"../../asr/processed-cv-valid-dev.csv\"\n",
    "hotword_list = ['be careful', 'destroy' 'stranger']"
   ]
  },
  {
   "cell_type": "code",
   "execution_count": 6,
   "metadata": {},
   "outputs": [
    {
     "data": {
      "text/html": [
       "<div>\n",
       "<style scoped>\n",
       "    .dataframe tbody tr th:only-of-type {\n",
       "        vertical-align: middle;\n",
       "    }\n",
       "\n",
       "    .dataframe tbody tr th {\n",
       "        vertical-align: top;\n",
       "    }\n",
       "\n",
       "    .dataframe thead th {\n",
       "        text-align: right;\n",
       "    }\n",
       "</style>\n",
       "<table border=\"1\" class=\"dataframe\">\n",
       "  <thead>\n",
       "    <tr style=\"text-align: right;\">\n",
       "      <th></th>\n",
       "      <th>filename</th>\n",
       "      <th>text</th>\n",
       "      <th>up_votes</th>\n",
       "      <th>down_votes</th>\n",
       "      <th>age</th>\n",
       "      <th>gender</th>\n",
       "      <th>accent</th>\n",
       "      <th>duration</th>\n",
       "      <th>group_type</th>\n",
       "      <th>generated_text</th>\n",
       "    </tr>\n",
       "  </thead>\n",
       "  <tbody>\n",
       "    <tr>\n",
       "      <th>0</th>\n",
       "      <td>../data/raw/common_voice/cv-valid-dev/cv-valid...</td>\n",
       "      <td>and in that way the months passed</td>\n",
       "      <td>1</td>\n",
       "      <td>0</td>\n",
       "      <td>NaN</td>\n",
       "      <td>NaN</td>\n",
       "      <td>NaN</td>\n",
       "      <td>NaN</td>\n",
       "      <td>cv-valid-dev</td>\n",
       "      <td>AND IN THAT WAY THE MONTHS PASSED</td>\n",
       "    </tr>\n",
       "    <tr>\n",
       "      <th>1</th>\n",
       "      <td>../data/raw/common_voice/cv-valid-dev/cv-valid...</td>\n",
       "      <td>about time one of you lunkheads said it</td>\n",
       "      <td>1</td>\n",
       "      <td>0</td>\n",
       "      <td>NaN</td>\n",
       "      <td>NaN</td>\n",
       "      <td>NaN</td>\n",
       "      <td>NaN</td>\n",
       "      <td>cv-valid-dev</td>\n",
       "      <td>ABRAT TIME ONE OF EULANCATS SAID IT</td>\n",
       "    </tr>\n",
       "    <tr>\n",
       "      <th>2</th>\n",
       "      <td>../data/raw/common_voice/cv-valid-dev/cv-valid...</td>\n",
       "      <td>the burning fire had been extinguished</td>\n",
       "      <td>3</td>\n",
       "      <td>1</td>\n",
       "      <td>NaN</td>\n",
       "      <td>NaN</td>\n",
       "      <td>NaN</td>\n",
       "      <td>NaN</td>\n",
       "      <td>cv-valid-dev</td>\n",
       "      <td>THE BONIPOYRE HAD BEEN EXTINGUISHED</td>\n",
       "    </tr>\n",
       "  </tbody>\n",
       "</table>\n",
       "</div>"
      ],
      "text/plain": [
       "                                            filename  \\\n",
       "0  ../data/raw/common_voice/cv-valid-dev/cv-valid...   \n",
       "1  ../data/raw/common_voice/cv-valid-dev/cv-valid...   \n",
       "2  ../data/raw/common_voice/cv-valid-dev/cv-valid...   \n",
       "\n",
       "                                      text  up_votes  down_votes  age gender  \\\n",
       "0        and in that way the months passed         1           0  NaN    NaN   \n",
       "1  about time one of you lunkheads said it         1           0  NaN    NaN   \n",
       "2   the burning fire had been extinguished         3           1  NaN    NaN   \n",
       "\n",
       "  accent  duration    group_type                       generated_text  \n",
       "0    NaN       NaN  cv-valid-dev    AND IN THAT WAY THE MONTHS PASSED  \n",
       "1    NaN       NaN  cv-valid-dev  ABRAT TIME ONE OF EULANCATS SAID IT  \n",
       "2    NaN       NaN  cv-valid-dev  THE BONIPOYRE HAD BEEN EXTINGUISHED  "
      ]
     },
     "execution_count": 6,
     "metadata": {},
     "output_type": "execute_result"
    }
   ],
   "source": [
    "valid_df = pd.read_csv(cv_valid_fpath)\n",
    "valid_df.head(3)"
   ]
  },
  {
   "cell_type": "code",
   "execution_count": 7,
   "metadata": {},
   "outputs": [],
   "source": [
    "unq_valid_df = valid_df.drop_duplicates(subset=['text'])"
   ]
  },
  {
   "cell_type": "code",
   "execution_count": 8,
   "metadata": {},
   "outputs": [
    {
     "data": {
      "text/html": [
       "<div>\n",
       "<style scoped>\n",
       "    .dataframe tbody tr th:only-of-type {\n",
       "        vertical-align: middle;\n",
       "    }\n",
       "\n",
       "    .dataframe tbody tr th {\n",
       "        vertical-align: top;\n",
       "    }\n",
       "\n",
       "    .dataframe thead th {\n",
       "        text-align: right;\n",
       "    }\n",
       "</style>\n",
       "<table border=\"1\" class=\"dataframe\">\n",
       "  <thead>\n",
       "    <tr style=\"text-align: right;\">\n",
       "      <th></th>\n",
       "      <th>filename</th>\n",
       "      <th>text</th>\n",
       "      <th>up_votes</th>\n",
       "      <th>down_votes</th>\n",
       "      <th>age</th>\n",
       "      <th>gender</th>\n",
       "      <th>accent</th>\n",
       "      <th>duration</th>\n",
       "      <th>group_type</th>\n",
       "      <th>generated_text</th>\n",
       "    </tr>\n",
       "  </thead>\n",
       "  <tbody>\n",
       "    <tr>\n",
       "      <th>901</th>\n",
       "      <td>../data/raw/common_voice/cv-valid-dev/cv-valid...</td>\n",
       "      <td>be careful with your prognostications said the...</td>\n",
       "      <td>1</td>\n",
       "      <td>0</td>\n",
       "      <td>NaN</td>\n",
       "      <td>NaN</td>\n",
       "      <td>NaN</td>\n",
       "      <td>NaN</td>\n",
       "      <td>cv-valid-dev</td>\n",
       "      <td>BE CAREFUL THAT YOU PROGNOSTICATIONS SAID THE ...</td>\n",
       "    </tr>\n",
       "    <tr>\n",
       "      <th>905</th>\n",
       "      <td>../data/raw/common_voice/cv-valid-dev/cv-valid...</td>\n",
       "      <td>the stranger was speaking of things that very ...</td>\n",
       "      <td>2</td>\n",
       "      <td>1</td>\n",
       "      <td>NaN</td>\n",
       "      <td>NaN</td>\n",
       "      <td>NaN</td>\n",
       "      <td>NaN</td>\n",
       "      <td>cv-valid-dev</td>\n",
       "      <td>THE STRANGER WAS SPEAKING OF THINGS THAT PRETT...</td>\n",
       "    </tr>\n",
       "  </tbody>\n",
       "</table>\n",
       "</div>"
      ],
      "text/plain": [
       "                                              filename  \\\n",
       "901  ../data/raw/common_voice/cv-valid-dev/cv-valid...   \n",
       "905  ../data/raw/common_voice/cv-valid-dev/cv-valid...   \n",
       "\n",
       "                                                  text  up_votes  down_votes  \\\n",
       "901  be careful with your prognostications said the...         1           0   \n",
       "905  the stranger was speaking of things that very ...         2           1   \n",
       "\n",
       "     age gender accent  duration    group_type  \\\n",
       "901  NaN    NaN    NaN       NaN  cv-valid-dev   \n",
       "905  NaN    NaN    NaN       NaN  cv-valid-dev   \n",
       "\n",
       "                                        generated_text  \n",
       "901  BE CAREFUL THAT YOU PROGNOSTICATIONS SAID THE ...  \n",
       "905  THE STRANGER WAS SPEAKING OF THINGS THAT PRETT...  "
      ]
     },
     "execution_count": 8,
     "metadata": {},
     "output_type": "execute_result"
    }
   ],
   "source": [
    "hot_phrases = valid_df[(valid_df['text'].str.contains(\"be careful\")) | (valid_df['text'].str.contains(\"destroy\")) | (valid_df['text'].str.contains(\"stranger\"))]\n",
    "hot_phrases.head(5)"
   ]
  },
  {
   "cell_type": "code",
   "execution_count": 9,
   "metadata": {},
   "outputs": [
    {
     "name": "stderr",
     "output_type": "stream",
     "text": [
      "/var/folders/sq/z4mv25d17y3_fdz56x8p97nr0000gn/T/ipykernel_11411/3234989317.py:1: SettingWithCopyWarning: \n",
      "A value is trying to be set on a copy of a slice from a DataFrame.\n",
      "Try using .loc[row_indexer,col_indexer] = value instead\n",
      "\n",
      "See the caveats in the documentation: https://pandas.pydata.org/pandas-docs/stable/user_guide/indexing.html#returning-a-view-versus-a-copy\n",
      "  hot_phrases['embeddings'] = hot_phrases['text'].apply(lambda x: model.encode([[\"Calculate sentence similarities:\", x]]))\n"
     ]
    }
   ],
   "source": [
    "hot_phrases['embeddings'] = hot_phrases['text'].apply(lambda x: model.encode([[\"Calculate sentence similarities:\", x]]))"
   ]
  },
  {
   "cell_type": "code",
   "execution_count": 10,
   "metadata": {},
   "outputs": [
    {
     "data": {
      "text/html": [
       "<div>\n",
       "<style scoped>\n",
       "    .dataframe tbody tr th:only-of-type {\n",
       "        vertical-align: middle;\n",
       "    }\n",
       "\n",
       "    .dataframe tbody tr th {\n",
       "        vertical-align: top;\n",
       "    }\n",
       "\n",
       "    .dataframe thead th {\n",
       "        text-align: right;\n",
       "    }\n",
       "</style>\n",
       "<table border=\"1\" class=\"dataframe\">\n",
       "  <thead>\n",
       "    <tr style=\"text-align: right;\">\n",
       "      <th></th>\n",
       "      <th>filename</th>\n",
       "      <th>text</th>\n",
       "      <th>up_votes</th>\n",
       "      <th>down_votes</th>\n",
       "      <th>age</th>\n",
       "      <th>gender</th>\n",
       "      <th>accent</th>\n",
       "      <th>duration</th>\n",
       "      <th>group_type</th>\n",
       "      <th>generated_text</th>\n",
       "      <th>embeddings</th>\n",
       "    </tr>\n",
       "  </thead>\n",
       "  <tbody>\n",
       "    <tr>\n",
       "      <th>901</th>\n",
       "      <td>../data/raw/common_voice/cv-valid-dev/cv-valid...</td>\n",
       "      <td>be careful with your prognostications said the...</td>\n",
       "      <td>1</td>\n",
       "      <td>0</td>\n",
       "      <td>NaN</td>\n",
       "      <td>NaN</td>\n",
       "      <td>NaN</td>\n",
       "      <td>NaN</td>\n",
       "      <td>cv-valid-dev</td>\n",
       "      <td>BE CAREFUL THAT YOU PROGNOSTICATIONS SAID THE ...</td>\n",
       "      <td>[[-0.033820048, -0.02761182, -0.036558174, 0.0...</td>\n",
       "    </tr>\n",
       "    <tr>\n",
       "      <th>905</th>\n",
       "      <td>../data/raw/common_voice/cv-valid-dev/cv-valid...</td>\n",
       "      <td>the stranger was speaking of things that very ...</td>\n",
       "      <td>2</td>\n",
       "      <td>1</td>\n",
       "      <td>NaN</td>\n",
       "      <td>NaN</td>\n",
       "      <td>NaN</td>\n",
       "      <td>NaN</td>\n",
       "      <td>cv-valid-dev</td>\n",
       "      <td>THE STRANGER WAS SPEAKING OF THINGS THAT PRETT...</td>\n",
       "      <td>[[-0.036920454, -0.017686976, -0.018310416, -0...</td>\n",
       "    </tr>\n",
       "  </tbody>\n",
       "</table>\n",
       "</div>"
      ],
      "text/plain": [
       "                                              filename  \\\n",
       "901  ../data/raw/common_voice/cv-valid-dev/cv-valid...   \n",
       "905  ../data/raw/common_voice/cv-valid-dev/cv-valid...   \n",
       "\n",
       "                                                  text  up_votes  down_votes  \\\n",
       "901  be careful with your prognostications said the...         1           0   \n",
       "905  the stranger was speaking of things that very ...         2           1   \n",
       "\n",
       "     age gender accent  duration    group_type  \\\n",
       "901  NaN    NaN    NaN       NaN  cv-valid-dev   \n",
       "905  NaN    NaN    NaN       NaN  cv-valid-dev   \n",
       "\n",
       "                                        generated_text  \\\n",
       "901  BE CAREFUL THAT YOU PROGNOSTICATIONS SAID THE ...   \n",
       "905  THE STRANGER WAS SPEAKING OF THINGS THAT PRETT...   \n",
       "\n",
       "                                            embeddings  \n",
       "901  [[-0.033820048, -0.02761182, -0.036558174, 0.0...  \n",
       "905  [[-0.036920454, -0.017686976, -0.018310416, -0...  "
      ]
     },
     "execution_count": 10,
     "metadata": {},
     "output_type": "execute_result"
    }
   ],
   "source": [
    "hot_phrases.head(3)"
   ]
  },
  {
   "cell_type": "code",
   "execution_count": 19,
   "metadata": {},
   "outputs": [
    {
     "name": "stdout",
     "output_type": "stream",
     "text": [
      "dont share your opinions so readily because you never know who is listening is similar to be careful with your prognostications said the stranger\n",
      "don't give in to your fears said the alchemist in a strangely gentle voice is similar to be careful with your prognostications said the stranger\n",
      "in those days very few of the people had any idea about astronomy is similar to the stranger was speaking of things that very few people knew about\n",
      "i make my living forecasting the future for people he said is similar to be careful with your prognostications said the stranger\n",
      "in a way so am i he said is similar to be careful with your prognostications said the stranger\n",
      "what did i tell you is similar to be careful with your prognostications said the stranger\n",
      "maybe this is an omen said the englishman half aloud is similar to be careful with your prognostications said the stranger\n",
      "can i help you asked the man behind the window is similar to be careful with your prognostications said the stranger\n",
      "learn to recognize omens and follow them the old king had said is similar to be careful with your prognostications said the stranger\n",
      "and i'm certain you'll find it the alchemist said is similar to be careful with your prognostications said the stranger\n",
      "people say strange things the boy thought is similar to be careful with your prognostications said the stranger\n",
      "who'd you say it was is similar to be careful with your prognostications said the stranger\n",
      "he wanted to say so to the alchemist but he was afraid of the man is similar to be careful with your prognostications said the stranger\n",
      "be careful with your prognostications said the stranger is similar to be careful with your prognostications said the stranger\n",
      "the stranger was speaking of things that very few people knew about is similar to be careful with your prognostications said the stranger\n"
     ]
    }
   ],
   "source": [
    "is_hot = []\n",
    "for _ , row in unq_valid_df.iterrows():\n",
    "    curr_embeddings = model.encode([[\"Calculate sentence similarities:\", row['text']]])\n",
    "    match = False\n",
    "    for _ , hot_row in hot_phrases.iterrows():\n",
    "        similarities = cosine_similarity(curr_embeddings,hot_row['embeddings'])\n",
    "        if similarities[0][0] >= 0.85:\n",
    "            print(f\"{row['text']} is similar to {hot_row['text']}\")\n",
    "            is_hot += [True]\n",
    "            match = True\n",
    "            break\n",
    "    if not match:\n",
    "        is_hot += [False]"
   ]
  },
  {
   "cell_type": "code",
   "execution_count": 21,
   "metadata": {},
   "outputs": [
    {
     "name": "stderr",
     "output_type": "stream",
     "text": [
      "/var/folders/sq/z4mv25d17y3_fdz56x8p97nr0000gn/T/ipykernel_11411/2322071121.py:1: SettingWithCopyWarning: \n",
      "A value is trying to be set on a copy of a slice from a DataFrame.\n",
      "Try using .loc[row_indexer,col_indexer] = value instead\n",
      "\n",
      "See the caveats in the documentation: https://pandas.pydata.org/pandas-docs/stable/user_guide/indexing.html#returning-a-view-versus-a-copy\n",
      "  unq_valid_df[\"similarity\"] = is_hot\n"
     ]
    }
   ],
   "source": [
    "unq_valid_df[\"similarity\"] = is_hot\n",
    "unq_valid_df.to_csv(\"cv-valid-dev.csv\", index=False)"
   ]
  }
 ],
 "metadata": {
  "kernelspec": {
   "display_name": "htx_app",
   "language": "python",
   "name": "python3"
  },
  "language_info": {
   "codemirror_mode": {
    "name": "ipython",
    "version": 3
   },
   "file_extension": ".py",
   "mimetype": "text/x-python",
   "name": "python",
   "nbconvert_exporter": "python",
   "pygments_lexer": "ipython3",
   "version": "3.9.20"
  }
 },
 "nbformat": 4,
 "nbformat_minor": 2
}
