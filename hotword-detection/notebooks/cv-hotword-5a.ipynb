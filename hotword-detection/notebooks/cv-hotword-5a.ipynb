{
 "cells": [
  {
   "cell_type": "code",
   "execution_count": 1,
   "metadata": {},
   "outputs": [],
   "source": [
    "import pandas as pd"
   ]
  },
  {
   "cell_type": "code",
   "execution_count": 38,
   "metadata": {},
   "outputs": [],
   "source": [
    "cv_valid_fpath = \"../../asr/processed-cv-valid-dev.csv\"\n",
    "hotword_list = ['be careful', 'destroy' 'stranger']"
   ]
  },
  {
   "cell_type": "code",
   "execution_count": 39,
   "metadata": {},
   "outputs": [
    {
     "data": {
      "text/html": [
       "<div>\n",
       "<style scoped>\n",
       "    .dataframe tbody tr th:only-of-type {\n",
       "        vertical-align: middle;\n",
       "    }\n",
       "\n",
       "    .dataframe tbody tr th {\n",
       "        vertical-align: top;\n",
       "    }\n",
       "\n",
       "    .dataframe thead th {\n",
       "        text-align: right;\n",
       "    }\n",
       "</style>\n",
       "<table border=\"1\" class=\"dataframe\">\n",
       "  <thead>\n",
       "    <tr style=\"text-align: right;\">\n",
       "      <th></th>\n",
       "      <th>filename</th>\n",
       "      <th>text</th>\n",
       "      <th>up_votes</th>\n",
       "      <th>down_votes</th>\n",
       "      <th>age</th>\n",
       "      <th>gender</th>\n",
       "      <th>accent</th>\n",
       "      <th>duration</th>\n",
       "      <th>group_type</th>\n",
       "      <th>generated_text</th>\n",
       "    </tr>\n",
       "  </thead>\n",
       "  <tbody>\n",
       "    <tr>\n",
       "      <th>0</th>\n",
       "      <td>../data/raw/common_voice/cv-valid-dev/cv-valid...</td>\n",
       "      <td>and in that way the months passed</td>\n",
       "      <td>1</td>\n",
       "      <td>0</td>\n",
       "      <td>NaN</td>\n",
       "      <td>NaN</td>\n",
       "      <td>NaN</td>\n",
       "      <td>NaN</td>\n",
       "      <td>cv-valid-dev</td>\n",
       "      <td>AND IN THAT WAY THE MONTHS PASSED</td>\n",
       "    </tr>\n",
       "    <tr>\n",
       "      <th>1</th>\n",
       "      <td>../data/raw/common_voice/cv-valid-dev/cv-valid...</td>\n",
       "      <td>about time one of you lunkheads said it</td>\n",
       "      <td>1</td>\n",
       "      <td>0</td>\n",
       "      <td>NaN</td>\n",
       "      <td>NaN</td>\n",
       "      <td>NaN</td>\n",
       "      <td>NaN</td>\n",
       "      <td>cv-valid-dev</td>\n",
       "      <td>ABRAT TIME ONE OF EULANCATS SAID IT</td>\n",
       "    </tr>\n",
       "    <tr>\n",
       "      <th>2</th>\n",
       "      <td>../data/raw/common_voice/cv-valid-dev/cv-valid...</td>\n",
       "      <td>the burning fire had been extinguished</td>\n",
       "      <td>3</td>\n",
       "      <td>1</td>\n",
       "      <td>NaN</td>\n",
       "      <td>NaN</td>\n",
       "      <td>NaN</td>\n",
       "      <td>NaN</td>\n",
       "      <td>cv-valid-dev</td>\n",
       "      <td>THE BONIPOYRE HAD BEEN EXTINGUISHED</td>\n",
       "    </tr>\n",
       "  </tbody>\n",
       "</table>\n",
       "</div>"
      ],
      "text/plain": [
       "                                            filename  \\\n",
       "0  ../data/raw/common_voice/cv-valid-dev/cv-valid...   \n",
       "1  ../data/raw/common_voice/cv-valid-dev/cv-valid...   \n",
       "2  ../data/raw/common_voice/cv-valid-dev/cv-valid...   \n",
       "\n",
       "                                      text  up_votes  down_votes  age gender  \\\n",
       "0        and in that way the months passed         1           0  NaN    NaN   \n",
       "1  about time one of you lunkheads said it         1           0  NaN    NaN   \n",
       "2   the burning fire had been extinguished         3           1  NaN    NaN   \n",
       "\n",
       "  accent  duration    group_type                       generated_text  \n",
       "0    NaN       NaN  cv-valid-dev    AND IN THAT WAY THE MONTHS PASSED  \n",
       "1    NaN       NaN  cv-valid-dev  ABRAT TIME ONE OF EULANCATS SAID IT  \n",
       "2    NaN       NaN  cv-valid-dev  THE BONIPOYRE HAD BEEN EXTINGUISHED  "
      ]
     },
     "execution_count": 39,
     "metadata": {},
     "output_type": "execute_result"
    }
   ],
   "source": [
    "valid_df = pd.read_csv(cv_valid_fpath)\n",
    "valid_df.head(3)"
   ]
  },
  {
   "cell_type": "code",
   "execution_count": 40,
   "metadata": {},
   "outputs": [
    {
     "data": {
      "text/html": [
       "<div>\n",
       "<style scoped>\n",
       "    .dataframe tbody tr th:only-of-type {\n",
       "        vertical-align: middle;\n",
       "    }\n",
       "\n",
       "    .dataframe tbody tr th {\n",
       "        vertical-align: top;\n",
       "    }\n",
       "\n",
       "    .dataframe thead th {\n",
       "        text-align: right;\n",
       "    }\n",
       "</style>\n",
       "<table border=\"1\" class=\"dataframe\">\n",
       "  <thead>\n",
       "    <tr style=\"text-align: right;\">\n",
       "      <th></th>\n",
       "      <th>filename</th>\n",
       "      <th>text</th>\n",
       "      <th>up_votes</th>\n",
       "      <th>down_votes</th>\n",
       "      <th>age</th>\n",
       "      <th>gender</th>\n",
       "      <th>accent</th>\n",
       "      <th>duration</th>\n",
       "      <th>group_type</th>\n",
       "      <th>generated_text</th>\n",
       "    </tr>\n",
       "  </thead>\n",
       "  <tbody>\n",
       "    <tr>\n",
       "      <th>901</th>\n",
       "      <td>../data/raw/common_voice/cv-valid-dev/cv-valid...</td>\n",
       "      <td>be careful with your prognostications said the...</td>\n",
       "      <td>1</td>\n",
       "      <td>0</td>\n",
       "      <td>NaN</td>\n",
       "      <td>NaN</td>\n",
       "      <td>NaN</td>\n",
       "      <td>NaN</td>\n",
       "      <td>cv-valid-dev</td>\n",
       "      <td>BE CAREFUL THAT YOU PROGNOSTICATIONS SAID THE ...</td>\n",
       "    </tr>\n",
       "    <tr>\n",
       "      <th>905</th>\n",
       "      <td>../data/raw/common_voice/cv-valid-dev/cv-valid...</td>\n",
       "      <td>the stranger was speaking of things that very ...</td>\n",
       "      <td>2</td>\n",
       "      <td>1</td>\n",
       "      <td>NaN</td>\n",
       "      <td>NaN</td>\n",
       "      <td>NaN</td>\n",
       "      <td>NaN</td>\n",
       "      <td>cv-valid-dev</td>\n",
       "      <td>THE STRANGER WAS SPEAKING OF THINGS THAT PRETT...</td>\n",
       "    </tr>\n",
       "  </tbody>\n",
       "</table>\n",
       "</div>"
      ],
      "text/plain": [
       "                                              filename  \\\n",
       "901  ../data/raw/common_voice/cv-valid-dev/cv-valid...   \n",
       "905  ../data/raw/common_voice/cv-valid-dev/cv-valid...   \n",
       "\n",
       "                                                  text  up_votes  down_votes  \\\n",
       "901  be careful with your prognostications said the...         1           0   \n",
       "905  the stranger was speaking of things that very ...         2           1   \n",
       "\n",
       "     age gender accent  duration    group_type  \\\n",
       "901  NaN    NaN    NaN       NaN  cv-valid-dev   \n",
       "905  NaN    NaN    NaN       NaN  cv-valid-dev   \n",
       "\n",
       "                                        generated_text  \n",
       "901  BE CAREFUL THAT YOU PROGNOSTICATIONS SAID THE ...  \n",
       "905  THE STRANGER WAS SPEAKING OF THINGS THAT PRETT...  "
      ]
     },
     "execution_count": 40,
     "metadata": {},
     "output_type": "execute_result"
    }
   ],
   "source": [
    "valid_df[(valid_df['text'].str.contains(\"be careful\")) | (valid_df['text'].str.contains(\"destroy\")) | (valid_df['text'].str.contains(\"stranger\"))]"
   ]
  }
 ],
 "metadata": {
  "kernelspec": {
   "display_name": "htx_app",
   "language": "python",
   "name": "python3"
  },
  "language_info": {
   "codemirror_mode": {
    "name": "ipython",
    "version": 3
   },
   "file_extension": ".py",
   "mimetype": "text/x-python",
   "name": "python",
   "nbconvert_exporter": "python",
   "pygments_lexer": "ipython3",
   "version": "3.9.20"
  }
 },
 "nbformat": 4,
 "nbformat_minor": 2
}
